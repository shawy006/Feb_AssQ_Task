{
 "cells": [
  {
   "cell_type": "code",
   "execution_count": 62,
   "id": "67eb26b5",
   "metadata": {},
   "outputs": [],
   "source": [
    "class vehicle:\n",
    "    def __init__(self,name_of_vehicle, max_speed, average_of_vehicle):\n",
    "        self.name_of_vehicle=name_of_vehicle\n",
    "        self.max_speed=max_speed\n",
    "        self.average_of_vehicle=average_of_vehicle\n",
    "        \n",
    "        "
   ]
  },
  {
   "cell_type": "code",
   "execution_count": 63,
   "id": "ff869c31",
   "metadata": {},
   "outputs": [],
   "source": [
    "class car(vehicle):\n",
    "    def seating_capacity(self,capacity):\n",
    "        return  self.name_of_vehicle, capacity\n",
    "    "
   ]
  },
  {
   "cell_type": "code",
   "execution_count": 64,
   "id": "668484d8",
   "metadata": {},
   "outputs": [],
   "source": [
    "c=car('Toyota Innova','180 kmph','15 kmpl')"
   ]
  },
  {
   "cell_type": "code",
   "execution_count": 65,
   "id": "1b70af31",
   "metadata": {},
   "outputs": [
    {
     "data": {
      "text/plain": [
       "('Toyota Innova', 7)"
      ]
     },
     "execution_count": 65,
     "metadata": {},
     "output_type": "execute_result"
    }
   ],
   "source": [
    "c.seating_capacity(7)"
   ]
  },
  {
   "cell_type": "code",
   "execution_count": 69,
   "id": "a0343135",
   "metadata": {},
   "outputs": [
    {
     "name": "stdout",
     "output_type": "stream",
     "text": [
      "hello world!!! this will execute bydefault\n",
      "Hi there!\n",
      "Good morning dear!\n",
      "This is test3!\n"
     ]
    },
    {
     "data": {
      "text/plain": [
       "'Male'"
      ]
     },
     "execution_count": 69,
     "metadata": {},
     "output_type": "execute_result"
    }
   ],
   "source": [
    "class test1:\n",
    "    def __init__(self,name,age):\n",
    "        self.name=name\n",
    "        self.age=age\n",
    "    def meth1(self):\n",
    "        print('Hi there!')\n",
    "        \n",
    "class test2:\n",
    "    def __init__(self,add,stu_id):\n",
    "        self.add=add\n",
    "        self.stu_id=stu_id\n",
    "    def meth2(self):\n",
    "        print('Good morning dear!')\n",
    "        \n",
    "class test3(test1,test2):\n",
    "    def __init__(self,gender):\n",
    "        self.gender=gender\n",
    "        print(\"hello world!!! this will execute bydefault\")\n",
    "    def meth3(self):\n",
    "        print('This is test3!')\n",
    "        \n",
    "    \n",
    "t1=test1('Shudhanshu','34')\n",
    "t2=test2('Banglore','17')    \n",
    "t3=test3('Male')\n",
    "t3.meth1()\n",
    "t3.meth2()\n",
    "t3.meth3()\n",
    "t3.gender\n",
    "\n",
    "\n",
    "\n",
    "\n",
    "\n",
    "\n",
    "\n"
   ]
  },
  {
   "cell_type": "code",
   "execution_count": 176,
   "id": "f9420a4b",
   "metadata": {},
   "outputs": [],
   "source": [
    "# setter and getter method just alter the default private variables of class. \n",
    "\n",
    "class hotel:\n",
    "    def __init__(self,floor,capacity):\n",
    "        self.__floor=4\n",
    "        self.__capacity=capacity\n",
    "    def set_room(self,capacity):\n",
    "        if capacity>=5:\n",
    "            self.__floor= 1  \n",
    "        else:\n",
    "            self.__floor=4\n",
    "    def get_room(self):\n",
    "        return self.__floor\n",
    "    \n",
    "dwarka=hotel(4,6)"
   ]
  },
  {
   "cell_type": "code",
   "execution_count": 177,
   "id": "18b9a7ad",
   "metadata": {},
   "outputs": [],
   "source": [
    "dwarka.set_room(10)"
   ]
  },
  {
   "cell_type": "code",
   "execution_count": 178,
   "id": "2c44aa06",
   "metadata": {},
   "outputs": [
    {
     "data": {
      "text/plain": [
       "1"
      ]
     },
     "execution_count": 178,
     "metadata": {},
     "output_type": "execute_result"
    }
   ],
   "source": [
    "dwarka.get_room()"
   ]
  },
  {
   "cell_type": "code",
   "execution_count": 179,
   "id": "2d47d908",
   "metadata": {},
   "outputs": [],
   "source": [
    "dwarka.set_room(4)"
   ]
  },
  {
   "cell_type": "code",
   "execution_count": 180,
   "id": "5c244754",
   "metadata": {},
   "outputs": [
    {
     "data": {
      "text/plain": [
       "4"
      ]
     },
     "execution_count": 180,
     "metadata": {},
     "output_type": "execute_result"
    }
   ],
   "source": [
    "dwarka.get_room()"
   ]
  },
  {
   "cell_type": "code",
   "execution_count": 181,
   "id": "d9c6ed42",
   "metadata": {},
   "outputs": [],
   "source": [
    "class A1:\n",
    "    def method(self):\n",
    "        print('Hello!!')\n",
    "class A2(A1):\n",
    "    def method(self):\n",
    "        print('Hi!!')\n",
    "obj=A2()"
   ]
  },
  {
   "cell_type": "code",
   "execution_count": 182,
   "id": "c721a3c9",
   "metadata": {},
   "outputs": [
    {
     "name": "stdout",
     "output_type": "stream",
     "text": [
      "Hi!!\n"
     ]
    }
   ],
   "source": [
    "obj.method()"
   ]
  },
  {
   "cell_type": "code",
   "execution_count": null,
   "id": "dfad9f99",
   "metadata": {},
   "outputs": [],
   "source": []
  }
 ],
 "metadata": {
  "kernelspec": {
   "display_name": "Python 3 (ipykernel)",
   "language": "python",
   "name": "python3"
  },
  "language_info": {
   "codemirror_mode": {
    "name": "ipython",
    "version": 3
   },
   "file_extension": ".py",
   "mimetype": "text/x-python",
   "name": "python",
   "nbconvert_exporter": "python",
   "pygments_lexer": "ipython3",
   "version": "3.9.13"
  }
 },
 "nbformat": 4,
 "nbformat_minor": 5
}
